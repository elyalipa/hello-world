{
  "nbformat": 4,
  "nbformat_minor": 0,
  "metadata": {
    "colab": {
      "name": "2.ipynb",
      "provenance": [],
      "collapsed_sections": [],
      "include_colab_link": true
    },
    "kernelspec": {
      "name": "python3",
      "display_name": "Python 3"
    },
    "language_info": {
      "name": "python"
    }
  },
  "cells": [
    {
      "cell_type": "markdown",
      "metadata": {
        "id": "view-in-github",
        "colab_type": "text"
      },
      "source": [
        "<a href=\"https://colab.research.google.com/github/elyalipa/hello-world/blob/master/2.ipynb\" target=\"_parent\"><img src=\"https://colab.research.google.com/assets/colab-badge.svg\" alt=\"Open In Colab\"/></a>"
      ]
    },
    {
      "cell_type": "markdown",
      "metadata": {
        "id": "uOd8FktscZBP"
      },
      "source": [
        "**Задать вектора а и b, найти их сумму**"
      ]
    },
    {
      "cell_type": "code",
      "metadata": {
        "colab": {
          "base_uri": "https://localhost:8080/"
        },
        "id": "X1NXfiNdcKwV",
        "outputId": "fb012475-746e-4eb0-8f58-38bec453a8d9"
      },
      "source": [
        "import numpy as np\n",
        "a = np.array([1, 2, 3])\n",
        "b=np.array([10, 0.2, 3])\n",
        "a+b"
      ],
      "execution_count": null,
      "outputs": [
        {
          "output_type": "execute_result",
          "data": {
            "text/plain": [
              "array([11. ,  2.2,  6. ])"
            ]
          },
          "metadata": {
            "tags": []
          },
          "execution_count": 1
        }
      ]
    },
    {
      "cell_type": "markdown",
      "metadata": {
        "id": "aYgtV6s_cisl"
      },
      "source": [
        "**Массив b преобразовать в массив комплексных чисел**"
      ]
    },
    {
      "cell_type": "code",
      "metadata": {
        "colab": {
          "base_uri": "https://localhost:8080/"
        },
        "id": "SsCMpZXDckgF",
        "outputId": "c4fede25-3047-443b-b3fb-bfc9cf8904af"
      },
      "source": [
        "b = np.array([[1.5, 2, 3], [4, 5, 6]], dtype=np.complex)\n",
        "b"
      ],
      "execution_count": null,
      "outputs": [
        {
          "output_type": "execute_result",
          "data": {
            "text/plain": [
              "array([[1.5+0.j, 2. +0.j, 3. +0.j],\n",
              "       [4. +0.j, 5. +0.j, 6. +0.j]])"
            ]
          },
          "metadata": {
            "tags": []
          },
          "execution_count": 2
        }
      ]
    },
    {
      "cell_type": "markdown",
      "metadata": {
        "id": "M2JY9lCscpA9"
      },
      "source": [
        "**Создать числовую последовательность от 10 до 30 с шагом 5**"
      ]
    },
    {
      "cell_type": "code",
      "metadata": {
        "colab": {
          "base_uri": "https://localhost:8080/"
        },
        "id": "5SRxwdrIcqok",
        "outputId": "9dc75402-41c5-4f7e-831b-229932b8236d"
      },
      "source": [
        "np.arange(10, 30, 5)"
      ],
      "execution_count": null,
      "outputs": [
        {
          "output_type": "execute_result",
          "data": {
            "text/plain": [
              "array([10, 15, 20, 25])"
            ]
          },
          "metadata": {
            "tags": []
          },
          "execution_count": 3
        }
      ]
    },
    {
      "cell_type": "markdown",
      "metadata": {
        "id": "PUnn_GlZcvk3"
      },
      "source": [
        "**Создать массив из 15 элементов. Развернуть его (первый становится последним).**"
      ]
    },
    {
      "cell_type": "code",
      "metadata": {
        "colab": {
          "base_uri": "https://localhost:8080/"
        },
        "id": "Gg52W6v0cwll",
        "outputId": "1370709c-e0a7-4382-8be0-1cedce6aac8f"
      },
      "source": [
        "Z = np.arange(15)\n",
        "Z = Z[::-1]\n",
        "Z"
      ],
      "execution_count": null,
      "outputs": [
        {
          "output_type": "execute_result",
          "data": {
            "text/plain": [
              "array([14, 13, 12, 11, 10,  9,  8,  7,  6,  5,  4,  3,  2,  1,  0])"
            ]
          },
          "metadata": {
            "tags": []
          },
          "execution_count": 4
        }
      ]
    },
    {
      "cell_type": "markdown",
      "metadata": {
        "id": "Tsd-Z9IPc1A-"
      },
      "source": [
        "**Создать массив 10x10 со случайными значениями, найти минимум и максимум.**"
      ]
    },
    {
      "cell_type": "code",
      "metadata": {
        "colab": {
          "base_uri": "https://localhost:8080/"
        },
        "id": "rUMBk1ldc3N-",
        "outputId": "50bac347-6f25-431f-d9e7-2c49d20ec206"
      },
      "source": [
        "Z = np.random.random((10,10))\n",
        "Zmin, Zmax = Z.min(), Z.max()\n",
        "Zmin, Zmax"
      ],
      "execution_count": null,
      "outputs": [
        {
          "output_type": "execute_result",
          "data": {
            "text/plain": [
              "(0.016098638025925704, 0.9946890410416266)"
            ]
          },
          "metadata": {
            "tags": []
          },
          "execution_count": 5
        }
      ]
    },
    {
      "cell_type": "markdown",
      "metadata": {
        "id": "aQYbrwlVc6Je"
      },
      "source": [
        "**Создать случайный вектор размера 30 и найти среднее значение всех элементов**"
      ]
    },
    {
      "cell_type": "code",
      "metadata": {
        "colab": {
          "base_uri": "https://localhost:8080/"
        },
        "id": "QyIjAcHoc-DF",
        "outputId": "60b3e92f-c029-41e1-953d-94f850e35d55"
      },
      "source": [
        "Z = np.random.random(30)\n",
        "m = Z.mean()\n",
        "m"
      ],
      "execution_count": null,
      "outputs": [
        {
          "output_type": "execute_result",
          "data": {
            "text/plain": [
              "0.5029660948850491"
            ]
          },
          "metadata": {
            "tags": []
          },
          "execution_count": 6
        }
      ]
    },
    {
      "cell_type": "markdown",
      "metadata": {
        "id": "uBWB5Z9EdhIt"
      },
      "source": [
        "**Создать объект Series, вывести на экран.**"
      ]
    },
    {
      "cell_type": "code",
      "metadata": {
        "colab": {
          "base_uri": "https://localhost:8080/"
        },
        "id": "X-H9jc5Gdi4d",
        "outputId": "be807d6e-7762-4794-b6ea-dd2046e9cfd9"
      },
      "source": [
        "import pandas as pd\n",
        "my_series = pd.Series([5, 6, 7, 8, 9, 10])\n",
        "my_series"
      ],
      "execution_count": null,
      "outputs": [
        {
          "output_type": "execute_result",
          "data": {
            "text/plain": [
              "0     5\n",
              "1     6\n",
              "2     7\n",
              "3     8\n",
              "4     9\n",
              "5    10\n",
              "dtype: int64"
            ]
          },
          "metadata": {
            "tags": []
          },
          "execution_count": 7
        }
      ]
    },
    {
      "cell_type": "markdown",
      "metadata": {
        "id": "xFASLXQPd6bd"
      },
      "source": [
        "**DataFrame**"
      ]
    },
    {
      "cell_type": "code",
      "metadata": {
        "colab": {
          "base_uri": "https://localhost:8080/",
          "height": 173
        },
        "id": "QmZSaUmud-8m",
        "outputId": "98754b83-a0d6-4490-ebcd-08794c2161ea"
      },
      "source": [
        "import pandas as pd\n",
        "df = pd.DataFrame({\n",
        "     'country': ['Kazakhstan', 'Russia', 'Belarus', 'Ukraine'],\n",
        "     'population': [17.04, 143.5, 9.5, 45.5],\n",
        "     'square': [2724902, 17125191, 207600, 603628]\n",
        " })\n",
        "df"
      ],
      "execution_count": null,
      "outputs": [
        {
          "output_type": "execute_result",
          "data": {
            "text/html": [
              "<div>\n",
              "<style scoped>\n",
              "    .dataframe tbody tr th:only-of-type {\n",
              "        vertical-align: middle;\n",
              "    }\n",
              "\n",
              "    .dataframe tbody tr th {\n",
              "        vertical-align: top;\n",
              "    }\n",
              "\n",
              "    .dataframe thead th {\n",
              "        text-align: right;\n",
              "    }\n",
              "</style>\n",
              "<table border=\"1\" class=\"dataframe\">\n",
              "  <thead>\n",
              "    <tr style=\"text-align: right;\">\n",
              "      <th></th>\n",
              "      <th>country</th>\n",
              "      <th>population</th>\n",
              "      <th>square</th>\n",
              "    </tr>\n",
              "  </thead>\n",
              "  <tbody>\n",
              "    <tr>\n",
              "      <th>0</th>\n",
              "      <td>Kazakhstan</td>\n",
              "      <td>17.04</td>\n",
              "      <td>2724902</td>\n",
              "    </tr>\n",
              "    <tr>\n",
              "      <th>1</th>\n",
              "      <td>Russia</td>\n",
              "      <td>143.50</td>\n",
              "      <td>17125191</td>\n",
              "    </tr>\n",
              "    <tr>\n",
              "      <th>2</th>\n",
              "      <td>Belarus</td>\n",
              "      <td>9.50</td>\n",
              "      <td>207600</td>\n",
              "    </tr>\n",
              "    <tr>\n",
              "      <th>3</th>\n",
              "      <td>Ukraine</td>\n",
              "      <td>45.50</td>\n",
              "      <td>603628</td>\n",
              "    </tr>\n",
              "  </tbody>\n",
              "</table>\n",
              "</div>"
            ],
            "text/plain": [
              "      country  population    square\n",
              "0  Kazakhstan       17.04   2724902\n",
              "1      Russia      143.50  17125191\n",
              "2     Belarus        9.50    207600\n",
              "3     Ukraine       45.50    603628"
            ]
          },
          "metadata": {
            "tags": []
          },
          "execution_count": 19
        }
      ]
    },
    {
      "cell_type": "markdown",
      "metadata": {
        "id": "Yp-cehxHeHjJ"
      },
      "source": [
        "Чтобы убедиться, что столбец в DataFrame это Series, извлекаем любой:"
      ]
    },
    {
      "cell_type": "code",
      "metadata": {
        "colab": {
          "base_uri": "https://localhost:8080/"
        },
        "id": "eBDz5K-FeERX",
        "outputId": "43da8e46-9ab0-475d-884f-91a01b294ef8"
      },
      "source": [
        "import pandas as pd\n",
        "df = pd.DataFrame({\n",
        "     'country': ['Kazakhstan', 'Russia', 'Belarus', 'Ukraine'],\n",
        "     'population': [17.04, 143.5, 9.5, 45.5],\n",
        "     'square': [2724902, 17125191, 207600, 603628]\n",
        " })\n",
        "df['country']"
      ],
      "execution_count": null,
      "outputs": [
        {
          "output_type": "execute_result",
          "data": {
            "text/plain": [
              "0    Kazakhstan\n",
              "1        Russia\n",
              "2       Belarus\n",
              "3       Ukraine\n",
              "Name: country, dtype: object"
            ]
          },
          "metadata": {
            "tags": []
          },
          "execution_count": 20
        }
      ]
    },
    {
      "cell_type": "markdown",
      "metadata": {
        "id": "5466di4ceMSd"
      },
      "source": [
        "**Математическик операции над объектом Series**"
      ]
    },
    {
      "cell_type": "code",
      "metadata": {
        "id": "LyxtpWxCeHWu",
        "colab": {
          "base_uri": "https://localhost:8080/"
        },
        "outputId": "227dc4fd-cdce-4c05-c698-d274510774bc"
      },
      "source": [
        "# операция >\n",
        "import pandas as pd\n",
        "my_series = pd.Series([5, 6, 7, 8, 9, 10])\n",
        "my_series [my_series > 7]"
      ],
      "execution_count": null,
      "outputs": [
        {
          "output_type": "execute_result",
          "data": {
            "text/plain": [
              "3     8\n",
              "4     9\n",
              "5    10\n",
              "dtype: int64"
            ]
          },
          "metadata": {
            "tags": []
          },
          "execution_count": 11
        }
      ]
    },
    {
      "cell_type": "code",
      "metadata": {
        "colab": {
          "base_uri": "https://localhost:8080/"
        },
        "id": "0qfTKXYhYrJ4",
        "outputId": "2867dbbd-bbd5-4bc7-e633-2dcd2eed7509"
      },
      "source": [
        "# операция умножения\n",
        "import pandas as pd\n",
        "my_series = pd.Series([5, 6, 7, 8, 9, 10])\n",
        "my_series *2"
      ],
      "execution_count": null,
      "outputs": [
        {
          "output_type": "execute_result",
          "data": {
            "text/plain": [
              "0    10\n",
              "1    12\n",
              "2    14\n",
              "3    16\n",
              "4    18\n",
              "5    20\n",
              "dtype: int64"
            ]
          },
          "metadata": {
            "tags": []
          },
          "execution_count": 16
        }
      ]
    },
    {
      "cell_type": "code",
      "metadata": {
        "colab": {
          "base_uri": "https://localhost:8080/"
        },
        "id": "L4MGBvt9ZvBv",
        "outputId": "e3dc524a-2c36-475b-d7eb-2216ef2dd664"
      },
      "source": [
        "# операция деления\n",
        "import pandas as pd\n",
        "my_series = pd.Series([5, 6, 7, 8, 9, 10])\n",
        "my_series /5"
      ],
      "execution_count": null,
      "outputs": [
        {
          "output_type": "execute_result",
          "data": {
            "text/plain": [
              "0    1.0\n",
              "1    1.2\n",
              "2    1.4\n",
              "3    1.6\n",
              "4    1.8\n",
              "5    2.0\n",
              "dtype: float64"
            ]
          },
          "metadata": {
            "tags": []
          },
          "execution_count": 18
        }
      ]
    },
    {
      "cell_type": "markdown",
      "metadata": {
        "id": "zeJ5DiCobWSY"
      },
      "source": [
        "**2. Создать таблицу из 3 столбцов, 5 строк.**\n"
      ]
    },
    {
      "cell_type": "code",
      "metadata": {
        "colab": {
          "base_uri": "https://localhost:8080/",
          "height": 202
        },
        "id": "PLu1qL1ZaMZ5",
        "outputId": "b6a7e390-dd33-4ca7-d29b-cc6fe561a099"
      },
      "source": [
        "import pandas as pd\n",
        "df = pd.DataFrame({\n",
        "     'author': ['Адамс Дуглас', 'Гарри Гаррисон', 'Мариам Петросян', 'Говард Лавкрафт', 'Рю Мураками'],\n",
        "     'book': ['Автостопом по галактике', 'Мир смерти', 'Дом, в котором', 'Изгой', 'Танатос'],\n",
        "     'year': [1979, 1998, 2009, 1926, 2002]\n",
        " })\n",
        "df"
      ],
      "execution_count": 16,
      "outputs": [
        {
          "output_type": "execute_result",
          "data": {
            "text/html": [
              "<div>\n",
              "<style scoped>\n",
              "    .dataframe tbody tr th:only-of-type {\n",
              "        vertical-align: middle;\n",
              "    }\n",
              "\n",
              "    .dataframe tbody tr th {\n",
              "        vertical-align: top;\n",
              "    }\n",
              "\n",
              "    .dataframe thead th {\n",
              "        text-align: right;\n",
              "    }\n",
              "</style>\n",
              "<table border=\"1\" class=\"dataframe\">\n",
              "  <thead>\n",
              "    <tr style=\"text-align: right;\">\n",
              "      <th></th>\n",
              "      <th>author</th>\n",
              "      <th>book</th>\n",
              "      <th>year</th>\n",
              "    </tr>\n",
              "  </thead>\n",
              "  <tbody>\n",
              "    <tr>\n",
              "      <th>0</th>\n",
              "      <td>Адамс Дуглас</td>\n",
              "      <td>Автостопом по галактике</td>\n",
              "      <td>1979</td>\n",
              "    </tr>\n",
              "    <tr>\n",
              "      <th>1</th>\n",
              "      <td>Гарри Гаррисон</td>\n",
              "      <td>Мир смерти</td>\n",
              "      <td>1998</td>\n",
              "    </tr>\n",
              "    <tr>\n",
              "      <th>2</th>\n",
              "      <td>Мариам Петросян</td>\n",
              "      <td>Дом, в котором</td>\n",
              "      <td>2009</td>\n",
              "    </tr>\n",
              "    <tr>\n",
              "      <th>3</th>\n",
              "      <td>Говард Лавкрафт</td>\n",
              "      <td>Изгой</td>\n",
              "      <td>1926</td>\n",
              "    </tr>\n",
              "    <tr>\n",
              "      <th>4</th>\n",
              "      <td>Рю Мураками</td>\n",
              "      <td>Танатос</td>\n",
              "      <td>2002</td>\n",
              "    </tr>\n",
              "  </tbody>\n",
              "</table>\n",
              "</div>"
            ],
            "text/plain": [
              "            author                     book  year\n",
              "0     Адамс Дуглас  Автостопом по галактике  1979\n",
              "1   Гарри Гаррисон               Мир смерти  1998\n",
              "2  Мариам Петросян           Дом, в котором  2009\n",
              "3  Говард Лавкрафт                    Изгой  1926\n",
              "4      Рю Мураками                  Танатос  2002"
            ]
          },
          "metadata": {
            "tags": []
          },
          "execution_count": 16
        }
      ]
    }
  ]
}